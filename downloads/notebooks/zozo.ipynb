{
 "metadata": {
  "name": "",
  "signature": "sha256:934151e20a9b4563a0236ab41bd742a920176b622482a27aecc995710fbb6480"
 },
 "nbformat": 3,
 "nbformat_minor": 0,
 "worksheets": [
  {
   "cells": [
    {
     "cell_type": "raw",
     "metadata": {},
     "source": [
      "title:  le titre du truc\n",
      "slug: le r\u00e9sum\u00e9 de la chose\n",
      "date: 2014-05-12\n",
      "comments: true\n"
     ]
    },
    {
     "cell_type": "code",
     "collapsed": false,
     "input": [
      "x=randn(100)"
     ],
     "language": "python",
     "metadata": {},
     "outputs": [],
     "prompt_number": 2
    },
    {
     "cell_type": "code",
     "collapsed": false,
     "input": [
      "%%javascript\n",
      "// Create a button and open a new window with template document\n",
      "var Blog_dir = '/home/bercherj/JFB/blog/jfbercher'\n",
      "IPython.toolbar.add_buttons_group([\n",
      "            {\n",
      "                  'label'   : 'New blog post',\n",
      "                  'icon'    :  'icon-upload',\n",
      "                  'callback': function () {\n",
      "                      IPython.notebook.kernel.execute('cd '+ Blog_dir);\n",
      "                      IPython.notebook.kernel.execute('!cp -f Blog_Template.ipynb Empty_blog_post.ipynb');                                \n",
      "                    window.open('http://127.0.0.1:8888/notebooks/JFB/blog/jfbercher/Empty_blog_post.ipynb','_blank')                                                          \n",
      "                  }\n",
      "            },\n",
      "        //\n",
      "             {\n",
      "                  'label'   : 'Publish',\n",
      "                  'icon'    :  'icon-plane',\n",
      "                  'callback': function () {\n",
      "                      IPython.notebook.kernel.execute('cd '+ Blog_dir);\n",
      "                      IPython.notebook.kernel.execute('!make html');                                \n",
      "                    //window.open('http://127.0.0.1:8888/notebooks/Empty_blog_post.ipynb','_blank')                                                          \n",
      "                  }\n",
      "             }\n",
      "            // add more button here if needed.\n",
      "             ]);"
     ],
     "language": "python",
     "metadata": {},
     "outputs": [
      {
       "javascript": [
        "// Create a button and open a new window with template document\n",
        "var Blog_dir = '/home/bercherj/JFB/blog/jfbercher'\n",
        "IPython.toolbar.add_buttons_group([\n",
        "            {\n",
        "                  'label'   : 'New blog post',\n",
        "                  'icon'    :  'icon-upload',\n",
        "                  'callback': function () {\n",
        "                      IPython.notebook.kernel.execute('cd '+ Blog_dir);\n",
        "                      IPython.notebook.kernel.execute('!cp -f Blog_Template.ipynb Empty_blog_post.ipynb');                                \n",
        "                    window.open('http://127.0.0.1:8888/notebooks/JFB/blog/jfbercher/Empty_blog_post.ipynb','_blank')                                                          \n",
        "                  }\n",
        "            },\n",
        "        //\n",
        "             {\n",
        "                  'label'   : 'Publish',\n",
        "                  'icon'    :  'icon-plane',\n",
        "                  'callback': function () {\n",
        "                      IPython.notebook.kernel.execute('cd '+ Blog_dir);\n",
        "                      IPython.notebook.kernel.execute('!make html');                                \n",
        "                    //window.open('http://127.0.0.1:8888/notebooks/Empty_blog_post.ipynb','_blank')                                                          \n",
        "                  }\n",
        "             }\n",
        "            // add more button here if needed.\n",
        "             ]);"
       ],
       "metadata": {},
       "output_type": "display_data",
       "text": [
        "<IPython.core.display.Javascript at 0x7fe22a1e9090>"
       ]
      }
     ],
     "prompt_number": 5
    },
    {
     "cell_type": "code",
     "collapsed": false,
     "input": [
      "%%javascript\n",
      "// Get notebook name !\n",
      "var kernel = IPython.notebook.kernel;\n",
      "var thename = window.document.getElementById(\"notebook_name\").innerHTML;\n",
      "// OR\n",
      "//var thename = IPython.notebook.notebook_name;\n",
      "var command = \"theNotebook = \" + \"'\"+thename+\"'\";\n",
      "kernel.execute(command);"
     ],
     "language": "python",
     "metadata": {},
     "outputs": [
      {
       "javascript": [
        "// Get notebook name !\n",
        "var kernel = IPython.notebook.kernel;\n",
        "var thename = window.document.getElementById(\"notebook_name\").innerHTML;\n",
        "// OR\n",
        "//var thename = IPython.notebook.notebook_name;\n",
        "var command = \"theNotebook = \" + \"'\"+thename+\"'\";\n",
        "kernel.execute(command);"
       ],
       "metadata": {},
       "output_type": "display_data",
       "text": [
        "<IPython.core.display.Javascript at 0x7fe22ad8c390>"
       ]
      }
     ],
     "prompt_number": 6
    },
    {
     "cell_type": "code",
     "collapsed": false,
     "input": [
      "# Create the meta file\n",
      "Blog_dir = '/home/bercherj/JFB/blog/jfbercher'\n",
      "import json\n",
      "fp=open(Blog_dir+'/content/'+theNotebook+'.ipynb','r')\n",
      "ztt=json.load(fp)\n",
      "try:\n",
      "    v=ztt['worksheets'][0]['cells'][0]['source']\n",
      "except KeyError:\n",
      "    print('First cell does not contain the blog metadata')\n",
      "\n",
      "print(v)\n",
      "d={x.split(':')[0]:':'.join(x.split(':')[1:])[:-1].lstrip() for x in v }\n",
      "print(d)\n",
      "filename=(d['date']+'_'+d['title'][:20]).replace(' ','_').replace(':','-')+'.md'\n",
      "filename=(d['date'].split(' ')[0]+'_'+d['title'][:20]).replace(' ','_')+'.md'\n",
      "print(filename)\n",
      "with open(Blog_dir+'/content/'+filename,'w') as f:\n",
      "    for s in v:\n",
      "        f.write(s)\n",
      "    f.write('\\n{% notebook '+theNotebook+'.ipynb cells[1:] %}')\n",
      "    #for key in d.keys():\n",
      "    #    f.write(key+': '+d[key]+'\\n')\n",
      "with open(filename,'r') as f:\n",
      "    print(f.read())"
     ],
     "language": "python",
     "metadata": {},
     "outputs": [
      {
       "ename": "FileNotFoundError",
       "evalue": "[Errno 2] No such file or directory: '/home/bercherj/JFB/blog/jfbercher/content/zozo.ipynb'",
       "output_type": "pyerr",
       "traceback": [
        "\u001b[1;31m---------------------------------------------------------------------------\u001b[0m\n\u001b[1;31mFileNotFoundError\u001b[0m                         Traceback (most recent call last)",
        "\u001b[1;32m<ipython-input-10-8393c1e20d78>\u001b[0m in \u001b[0;36m<module>\u001b[1;34m()\u001b[0m\n\u001b[0;32m      2\u001b[0m \u001b[0mBlog_dir\u001b[0m \u001b[1;33m=\u001b[0m \u001b[1;34m'/home/bercherj/JFB/blog/jfbercher'\u001b[0m\u001b[1;33m\u001b[0m\u001b[0m\n\u001b[0;32m      3\u001b[0m \u001b[1;32mimport\u001b[0m \u001b[0mjson\u001b[0m\u001b[1;33m\u001b[0m\u001b[0m\n\u001b[1;32m----> 4\u001b[1;33m \u001b[0mfp\u001b[0m\u001b[1;33m=\u001b[0m\u001b[0mopen\u001b[0m\u001b[1;33m(\u001b[0m\u001b[0mBlog_dir\u001b[0m\u001b[1;33m+\u001b[0m\u001b[1;34m'/content/'\u001b[0m\u001b[1;33m+\u001b[0m\u001b[0mtheNotebook\u001b[0m\u001b[1;33m+\u001b[0m\u001b[1;34m'.ipynb'\u001b[0m\u001b[1;33m,\u001b[0m\u001b[1;34m'r'\u001b[0m\u001b[1;33m)\u001b[0m\u001b[1;33m\u001b[0m\u001b[0m\n\u001b[0m\u001b[0;32m      5\u001b[0m \u001b[0mztt\u001b[0m\u001b[1;33m=\u001b[0m\u001b[0mjson\u001b[0m\u001b[1;33m.\u001b[0m\u001b[0mload\u001b[0m\u001b[1;33m(\u001b[0m\u001b[0mfp\u001b[0m\u001b[1;33m)\u001b[0m\u001b[1;33m\u001b[0m\u001b[0m\n\u001b[0;32m      6\u001b[0m \u001b[1;32mtry\u001b[0m\u001b[1;33m:\u001b[0m\u001b[1;33m\u001b[0m\u001b[0m\n",
        "\u001b[1;31mFileNotFoundError\u001b[0m: [Errno 2] No such file or directory: '/home/bercherj/JFB/blog/jfbercher/content/zozo.ipynb'"
       ]
      }
     ],
     "prompt_number": 10
    },
    {
     "cell_type": "code",
     "collapsed": false,
     "input": [
      "%pylab inline\n",
      "plot(x)"
     ],
     "language": "python",
     "metadata": {},
     "outputs": [
      {
       "output_type": "stream",
       "stream": "stdout",
       "text": [
        "Populating the interactive namespace from numpy and matplotlib\n"
       ]
      },
      {
       "metadata": {},
       "output_type": "pyout",
       "prompt_number": 4,
       "text": [
        "[<matplotlib.lines.Line2D at 0x7fe22a213390>]"
       ]
      },
      {
       "metadata": {},
       "output_type": "display_data",
       "png": "[encoded data removed]",
       "text": [
        "<matplotlib.figure.Figure at 0x7fe22a229d10>"
       ]
      }
     ],
     "prompt_number": 4
    }
   ],
   "metadata": {}
  }
 ]
}